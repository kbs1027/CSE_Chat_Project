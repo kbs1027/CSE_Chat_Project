{
 "cells": [
  {
   "cell_type": "code",
   "execution_count": 1,
   "metadata": {},
   "outputs": [],
   "source": [
    "import feedparser\n",
    "import schedule\n",
    "import time"
   ]
  },
  {
   "cell_type": "code",
   "execution_count": 2,
   "metadata": {},
   "outputs": [],
   "source": [
    "def Notice():\n",
    "    print(\"공지사항\\n\")\n",
    "    "
   ]
  },
  {
   "cell_type": "code",
   "execution_count": 3,
   "metadata": {},
   "outputs": [],
   "source": [
    "def Free():\n",
    "    print(\"자유\\n\")\n",
    "    "
   ]
  },
  {
   "cell_type": "code",
   "execution_count": 4,
   "metadata": {},
   "outputs": [],
   "source": [
    "def Employoment():\n",
    "    print(\"채용\\n\")\n",
    "    \n"
   ]
  },
  {
   "cell_type": "code",
   "execution_count": 5,
   "metadata": {},
   "outputs": [],
   "source": [
    "def Contest():\n",
    "    print(\"경진대회\\n\")\n",
    "    "
   ]
  },
  {
   "cell_type": "code",
   "execution_count": 6,
   "metadata": {},
   "outputs": [
    {
     "data": {
      "text/plain": [
       "Every 80 seconds do Notice() (last run: [never], next run: 2023-01-24 06:13:19)"
      ]
     },
     "execution_count": 6,
     "metadata": {},
     "output_type": "execute_result"
    }
   ],
   "source": [
    "schedule.every(10).seconds.do(Contest)\n",
    "schedule.every(20).seconds.do(Employoment)\n",
    "schedule.every(40).seconds.do(Free)\n",
    "schedule.every(80).seconds.do(Notice)"
   ]
  },
  {
   "cell_type": "code",
   "execution_count": 7,
   "metadata": {},
   "outputs": [
    {
     "name": "stdout",
     "output_type": "stream",
     "text": [
      "경진대회\n",
      "\n",
      "채용\n",
      "\n",
      "경진대회\n",
      "\n",
      "경진대회\n",
      "\n",
      "자유\n",
      "\n",
      "채용\n",
      "\n",
      "경진대회\n",
      "\n",
      "경진대회\n",
      "\n",
      "채용\n",
      "\n",
      "경진대회\n",
      "\n",
      "경진대회\n",
      "\n",
      "공지사항\n",
      "\n",
      "자유\n",
      "\n",
      "채용\n",
      "\n",
      "경진대회\n",
      "\n",
      "경진대회\n",
      "\n",
      "채용\n",
      "\n",
      "경진대회\n",
      "\n",
      "경진대회\n",
      "\n",
      "자유\n",
      "\n",
      "채용\n",
      "\n",
      "경진대회\n",
      "\n",
      "경진대회\n",
      "\n",
      "채용\n",
      "\n",
      "경진대회\n",
      "\n",
      "경진대회\n",
      "\n",
      "공지사항\n",
      "\n",
      "자유\n",
      "\n",
      "채용\n",
      "\n",
      "경진대회\n",
      "\n",
      "경진대회\n",
      "\n",
      "채용\n",
      "\n",
      "경진대회\n",
      "\n",
      "경진대회\n",
      "\n",
      "자유\n",
      "\n",
      "채용\n",
      "\n",
      "경진대회\n",
      "\n",
      "경진대회\n",
      "\n",
      "채용\n",
      "\n",
      "경진대회\n",
      "\n",
      "경진대회\n",
      "\n",
      "공지사항\n",
      "\n",
      "자유\n",
      "\n",
      "채용\n",
      "\n",
      "경진대회\n",
      "\n"
     ]
    },
    {
     "ename": "KeyboardInterrupt",
     "evalue": "",
     "output_type": "error",
     "traceback": [
      "\u001b[0;31m---------------------------------------------------------------------------\u001b[0m",
      "\u001b[0;31mKeyboardInterrupt\u001b[0m                         Traceback (most recent call last)",
      "Cell \u001b[0;32mIn[7], line 3\u001b[0m\n\u001b[1;32m      1\u001b[0m \u001b[39mwhile\u001b[39;00m \u001b[39mTrue\u001b[39;00m:\n\u001b[1;32m      2\u001b[0m     schedule\u001b[39m.\u001b[39mrun_pending()\n\u001b[0;32m----> 3\u001b[0m     time\u001b[39m.\u001b[39;49msleep(\u001b[39m1\u001b[39;49m)\n",
      "\u001b[0;31mKeyboardInterrupt\u001b[0m: "
     ]
    }
   ],
   "source": [
    "while True:\n",
    "    schedule.run_pending()\n",
    "    time.sleep(1)"
   ]
  }
 ],
 "metadata": {
  "kernelspec": {
   "display_name": "Python 3.8.10 ('chatbot')",
   "language": "python",
   "name": "python3"
  },
  "language_info": {
   "codemirror_mode": {
    "name": "ipython",
    "version": 3
   },
   "file_extension": ".py",
   "mimetype": "text/x-python",
   "name": "python",
   "nbconvert_exporter": "python",
   "pygments_lexer": "ipython3",
   "version": "3.8.10"
  },
  "orig_nbformat": 4,
  "vscode": {
   "interpreter": {
    "hash": "800db5087e7dc485da324edd866ea422455dd9dc89668bf75ee14175706db6c1"
   }
  }
 },
 "nbformat": 4,
 "nbformat_minor": 2
}
