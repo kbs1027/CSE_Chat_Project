{
 "cells": [
  {
   "cell_type": "code",
   "execution_count": 18,
   "id": "f442263c-6aa5-44c9-b943-52d551109e6e",
   "metadata": {},
   "outputs": [
    {
     "name": "stdout",
     "output_type": "stream",
     "text": [
      "hello\n"
     ]
    }
   ],
   "source": [
    "import pyautogui\n",
    "import time\n",
    "import pyperclip\n",
    "\n",
    "def macroSend(chatname_path):\n",
    "    room_btn = pyautogui.locateCenterOnScreen(chatname_path, confidence=0.9)\n",
    "    pyautogui.moveTo(room_btn.x, room_btn.y)\n",
    "    pyautogui.rightClick()\n",
    "    roomopen_btn = pyautogui.locateCenterOnScreen('C:/Users/nuc/project/CSE_Chat_Project/chatopen.PNG', confidence=0.9)\n",
    "    pyautogui.moveTo(roomopen_btn.x, roomopen_btn.y)\n",
    "    pyautogui.doubleClick()\n",
    "    time.sleep(1)\n",
    "    chat_btn = pyautogui.locateCenterOnScreen('C:/Users/nuc/project/CSE_Chat_Project/chatblock.PNG', confidence=0.9)\n",
    "    pyautogui.moveTo(chat_btn.x, chat_btn.y)\n",
    "    pyautogui.doubleClick()\n",
    "    pyperclip.copy(\"안녕하세요\")\n",
    "    pyautogui.hotkey(\"ctrl\",\"v\")\n",
    "    time.sleep(1)\n",
    "    send_btn = pyautogui.locateCenterOnScreen('C:/Users/nuc/project/CSE_Chat_Project/send.PNG', confidence=0.9)\n",
    "    pyautogui.moveTo(send_btn.x, send_btn.y)\n",
    "    pyautogui.doubleClick()"
   ]
  },
  {
   "cell_type": "code",
   "execution_count": 5,
   "id": "f4314784-18f6-4f9f-a88e-7e7512cada3f",
   "metadata": {},
   "outputs": [
    {
     "name": "stderr",
     "output_type": "stream",
     "text": [
      "ERROR: Could not find a version that satisfies the requirement OpenCV (from versions: none)\n",
      "ERROR: No matching distribution found for OpenCV\n"
     ]
    }
   ],
   "source": [
    "!pip install OpenCV"
   ]
  },
  {
   "cell_type": "code",
   "execution_count": null,
   "id": "7e4de909-fc42-4e6b-9538-d195ac3df5a3",
   "metadata": {},
   "outputs": [],
   "source": []
  }
 ],
 "metadata": {
  "kernelspec": {
   "display_name": "chatbot",
   "language": "python",
   "name": "chatbot"
  },
  "language_info": {
   "codemirror_mode": {
    "name": "ipython",
    "version": 3
   },
   "file_extension": ".py",
   "mimetype": "text/x-python",
   "name": "python",
   "nbconvert_exporter": "python",
   "pygments_lexer": "ipython3",
   "version": "3.8.10"
  }
 },
 "nbformat": 4,
 "nbformat_minor": 5
}
