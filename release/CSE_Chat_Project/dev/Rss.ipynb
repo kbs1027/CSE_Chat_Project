{
 "cells": [
  {
   "cell_type": "code",
   "execution_count": 1,
   "metadata": {},
   "outputs": [],
   "source": [
    "import feedparser\n",
    "\n",
    "parse_rss = feedparser.parse(\"https://cse.pusan.ac.kr/bbs/cse/2605/rssList.do?row=50\")"
   ]
  },
  {
   "cell_type": "code",
   "execution_count": 31,
   "metadata": {},
   "outputs": [],
   "source": [
    "import socket\n",
    "socket.setdefaulttimeout(0.01)\n",
    "parse_rss = feedparser.parse(\"https://cse.pusan.ac.kr/bbs/cse/2605/rssList.do?row=5\")"
   ]
  },
  {
   "cell_type": "code",
   "execution_count": 28,
   "metadata": {},
   "outputs": [],
   "source": [
    "import socket\n",
    "socket.setdefaulttimeout(1)\n",
    "parse_rss = feedparser.parse(\"https://cse.pusan.ac.kr/bbs/cse/2605/rssList.do?row=5\")"
   ]
  },
  {
   "cell_type": "code",
   "execution_count": 27,
   "metadata": {},
   "outputs": [
    {
     "data": {
      "text/plain": [
       "True"
      ]
     },
     "execution_count": 27,
     "metadata": {},
     "output_type": "execute_result"
    }
   ],
   "source": [
    "parse_rss.bozo"
   ]
  },
  {
   "cell_type": "code",
   "execution_count": 29,
   "metadata": {},
   "outputs": [
    {
     "data": {
      "text/plain": [
       "False"
      ]
     },
     "execution_count": 29,
     "metadata": {},
     "output_type": "execute_result"
    }
   ],
   "source": [
    "parse_rss.bozo"
   ]
  },
  {
   "cell_type": "code",
   "execution_count": 32,
   "metadata": {},
   "outputs": [
    {
     "name": "stdout",
     "output_type": "stream",
     "text": [
      "saveerror\n"
     ]
    }
   ],
   "source": [
    "import json\n",
    "if parse_rss.bozo:\n",
    "    print(\"saveerror\")\n",
    "else:\n",
    "    with open(\"test.json\", 'w') as f:\n",
    "        f.write(json.dumps(parse_rss, ensure_ascii=False))"
   ]
  },
  {
   "cell_type": "code",
   "execution_count": 2,
   "metadata": {},
   "outputs": [
    {
     "data": {
      "text/plain": [
       "{'title': '[수업]2023학년도 1학기 학부 전공과목 등 1차 폐강 강좌 및 수강 정정 안내',\n",
       " 'title_detail': {'type': 'text/plain',\n",
       "  'language': 'ko-KR',\n",
       "  'base': 'https://cse.pusan.ac.kr/bbs/cse/2605/rssList.do?row=50',\n",
       "  'value': '[수업]2023학년도 1학기 학부 전공과목 등 1차 폐강 강좌 및 수강 정정 안내'},\n",
       " 'links': [{'rel': 'alternate',\n",
       "   'type': 'text/html',\n",
       "   'href': 'http://his.pusan.ac.kr/bbs/cse/2605/1162579/artclView.do'}],\n",
       " 'link': 'http://his.pusan.ac.kr/bbs/cse/2605/1162579/artclView.do',\n",
       " 'published': '2023-02-28 15:04:23.643',\n",
       " 'published_parsed': time.struct_time(tm_year=2023, tm_mon=2, tm_mday=28, tm_hour=15, tm_min=4, tm_sec=23, tm_wday=1, tm_yday=59, tm_isdst=0),\n",
       " 'authors': [{'name': '황유경'}],\n",
       " 'author': '황유경',\n",
       " 'author_detail': {'name': '황유경'},\n",
       " 'tags': [{'term': '수업', 'scheme': None, 'label': None}],\n",
       " 'summary': '',\n",
       " 'summary_detail': {'type': 'text/html',\n",
       "  'language': 'ko-KR',\n",
       "  'base': 'https://cse.pusan.ac.kr/bbs/cse/2605/rssList.do?row=50',\n",
       "  'value': ''}}"
      ]
     },
     "execution_count": 2,
     "metadata": {},
     "output_type": "execute_result"
    }
   ],
   "source": [
    "parse_rss.entries[0]"
   ]
  },
  {
   "cell_type": "code",
   "execution_count": 53,
   "metadata": {},
   "outputs": [
    {
     "name": "stdout",
     "output_type": "stream",
     "text": [
      "2023-1-17\n",
      "2023학년도 1학기 수강신청 대비 「영어 기초학력 진단평가」실시 안내\n",
      "http://his.pusan.ac.kr/bbs/cse/2605/1136273/artclView.do\n",
      "2023-1-17\n",
      "2023학년도 1학기 교류 수학 안내(울산과기원, 서울시립대, 계명대, 한국교원대 대학원)\n",
      "http://his.pusan.ac.kr/bbs/cse/2605/1136271/artclView.do\n",
      "2023-1-17\n",
      "[취업전략과] 겨울방학 면접 프로그램 참가자 모집 홍보\n",
      "http://his.pusan.ac.kr/bbs/cse/2605/1136264/artclView.do\n",
      "2023-1-17\n",
      "[교육부] 중국 입국자 선제적 감시방안 조치 안내 및「검역정보 사전입력시스템(Q-CODE)」이용 안내\n",
      "http://his.pusan.ac.kr/bbs/cse/2605/1136262/artclView.do\n",
      "2023-1-17\n",
      "2023학년도 1학기 교류 수학 안내(울산대, 부경대, 영남대, 한양대 대학원)\n",
      "http://his.pusan.ac.kr/bbs/cse/2605/1136260/artclView.do\n",
      "2023-1-17\n",
      "2023학년도 1학기 교류 수학(서울과학기술대, 한밭대, 창원대, 경희대 대학원)\n",
      "http://his.pusan.ac.kr/bbs/cse/2605/1136259/artclView.do\n",
      "2023-1-16\n",
      "[학과주관-코딩역량강의] PCCE, PCCP 수강생 모집: ~ 1.20(금)까지\n",
      "http://his.pusan.ac.kr/bbs/cse/2605/1136085/artclView.do\n",
      "2023-1-16\n",
      "2022학년도 3차 대기업 직무적성 특강 신청 안내\n",
      "http://his.pusan.ac.kr/bbs/cse/2605/1136066/artclView.do\n",
      "2023-1-12\n",
      "2023학년도 1학기 교류 수학 안내(전남대 외)\n",
      "http://his.pusan.ac.kr/bbs/cse/2605/1135936/artclView.do\n",
      "2023-1-12\n",
      "2023학년도 1학기 교류 수학 안내(서울대학교 외)\n",
      "http://his.pusan.ac.kr/bbs/cse/2605/1135935/artclView.do\n",
      "2023-1-12\n",
      "[졸업예정자필독]2023년 2월 졸업예정자 중 TOPCIT 미충족자 조사\n",
      "http://his.pusan.ac.kr/bbs/cse/2605/1135901/artclView.do\n",
      "2023-1-12\n",
      "설 명절맞이 청렴 퀴즈 이벤트 참여 안내\n",
      "http://his.pusan.ac.kr/bbs/cse/2605/1135882/artclView.do\n",
      "2023-1-10\n",
      "[중요] (2023.3.1 시행)부산대학교 영어 능력 졸업인증제도 시행 지침 안내\n",
      "http://his.pusan.ac.kr/bbs/cse/2605/1135748/artclView.do\n",
      "2023-1-10\n",
      "지역선도대학육성사업「부산 특화산업 발전 로드맵 경진대회」참가자 모집\n",
      "http://his.pusan.ac.kr/bbs/cse/2605/1135742/artclView.do\n",
      "2023-1-10\n",
      "[소프트웨어교육센터] 「PNU SW·AI 창의융합 프로젝트 캠프」 멘토 모집 안내\n",
      "http://his.pusan.ac.kr/bbs/cse/2605/1135710/artclView.do\n",
      "2023-1-10\n",
      "[LINC 3.0] 「AI ART Crash Course_ 이론부터 작품 제작까지」 프로그램 안내\n",
      "http://his.pusan.ac.kr/bbs/cse/2605/1135695/artclView.do\n",
      "2023-1-9\n",
      "2023학년도 1학기 학부 등록금재원 우선선발장학금 신청 안내\n",
      "http://his.pusan.ac.kr/bbs/cse/2605/1135605/artclView.do\n",
      "2023-1-9\n",
      "[멘토스쿨 운영] 2022학년도 6차 멘토스쿨\n",
      "http://his.pusan.ac.kr/bbs/cse/2605/1135602/artclView.do\n",
      "2023-1-6\n",
      "2023학년도 1학기 교류 수학 안내(강원대학교 외)\n",
      "http://his.pusan.ac.kr/bbs/cse/2605/1135527/artclView.do\n",
      "2023-1-6\n",
      "2023년도 한국장애인개발원 쌍용곰두리장학생 선발 안내\n",
      "http://his.pusan.ac.kr/bbs/cse/2605/1135434/artclView.do\n",
      "2023-1-5\n",
      "2023학년도 1학기 (통합)연계과정 학생 및 전환 희망 학생 모집 안내\n",
      "http://his.pusan.ac.kr/bbs/cse/2605/1135368/artclView.do\n",
      "2023-1-5\n",
      "[LINC 3.0] 파워반도체인재양성센터 설계트랙 교육생 모집 안내\n",
      "http://his.pusan.ac.kr/bbs/cse/2605/1135345/artclView.do\n",
      "2023-1-5\n",
      "[산업AI특성화] 핵심지표 설문조사\n",
      "http://his.pusan.ac.kr/bbs/cse/2605/1135342/artclView.do\n",
      "2023-1-3\n",
      "2023학년도 1학기 학자금 대출 기본계획 알림\n",
      "http://his.pusan.ac.kr/bbs/cse/2605/1135194/artclView.do\n",
      "2023-1-3\n",
      "학생과 미경유 교내·외 장학금 수혜현황 제출 요청\n",
      "http://his.pusan.ac.kr/bbs/cse/2605/1135172/artclView.do\n",
      "2023-1-3\n",
      "2023학년도 대학생활원(부산) 1인실 및 2인실 모집요강 공고\n",
      "http://his.pusan.ac.kr/bbs/cse/2605/1135170/artclView.do\n",
      "2023-1-3\n",
      "[인권센터] 2022년 학생(학부 및 대학원생) 『폭력예방교육』 이수 협조요청\n",
      "http://his.pusan.ac.kr/bbs/cse/2605/1135109/artclView.do\n",
      "2023-1-2\n",
      "2022학년도 2학기 학사학위취득 유예 시행 계획 알림\n",
      "http://his.pusan.ac.kr/bbs/cse/2605/1134943/artclView.do\n",
      "2023-1-2\n",
      "[LINC 3.0] LINC 3.0 사업 프로그램 우수 수기 공모전 안내\n",
      "http://his.pusan.ac.kr/bbs/cse/2605/1134939/artclView.do\n",
      "2023-1-2\n",
      "[혁신 E-1-2] ’22학년도 전공특화 비교과 PNU Major+(진로취업) 관련 진로ㆍ취업 만족도 조사 안내\n",
      "http://his.pusan.ac.kr/bbs/cse/2605/1134937/artclView.do\n",
      "2022-12-30\n",
      "2023학년도 1학기 타대 교류 수학 안내(서울대, 경북대 대학원)\n",
      "http://his.pusan.ac.kr/bbs/cse/2605/1134884/artclView.do\n",
      "2022-12-30\n",
      "2022년 2기 일반대학원 공동수강교과목의 학사과정 학점 인정 신청 안내\n",
      "http://his.pusan.ac.kr/bbs/cse/2605/1134883/artclView.do\n",
      "2022-12-30\n",
      "[LINC 3.0] 2022학년도 겨울학기 표준현장실습학기제 숙박비 지원 안내(정정)\n",
      "http://his.pusan.ac.kr/bbs/cse/2605/1134880/artclView.do\n",
      "2022-12-30\n",
      "[LINC3.0]2022학년도 겨울학기 표준현장실습학기제 숙박비 지원 안내\n",
      "http://his.pusan.ac.kr/bbs/cse/2605/1134879/artclView.do\n",
      "2022-12-30\n",
      "2022년 2기 기말강의평가 서비스 일지 중지 알림\n",
      "http://his.pusan.ac.kr/bbs/cse/2605/1134826/artclView.do\n",
      "2022-12-30\n",
      "2022학년도 2학기 강의평가 실시 안내\n",
      "http://his.pusan.ac.kr/bbs/cse/2605/1134825/artclView.do\n",
      "2022-12-29\n",
      "[LINC 3.0] LINC 3.0 사업 프로그램 우수 수기 공모전 안내\n",
      "http://his.pusan.ac.kr/bbs/cse/2605/1134722/artclView.do\n",
      "2022-12-27\n",
      "[소프트웨어교육센터]  「PNU SW·AI 창의융합 프로젝트 캠프」  멘토 선발\n",
      "http://his.pusan.ac.kr/bbs/cse/2605/1134607/artclView.do\n",
      "2022-12-27\n",
      "[LINC 3.0] 2022학년도 지식재산권 출원 및 등록 지원 사업 공고\n",
      "http://his.pusan.ac.kr/bbs/cse/2605/1134531/artclView.do\n",
      "2022-12-27\n",
      "[인권센터] 2022년 학생(학부 및 대학원생) 『폭력예방교육』 이수 안내\n",
      "http://his.pusan.ac.kr/bbs/cse/2605/1134529/artclView.do\n",
      "2022-12-27\n",
      "[취업전략과] 2022년 진로·취업지원 만족도 및 수요 조사 안내\n",
      "http://his.pusan.ac.kr/bbs/cse/2605/1134515/artclView.do\n",
      "2022-12-27\n",
      "[대학혁신] 2022학년도 「잡(job)학다식 특강」 2차 안내\n",
      "http://his.pusan.ac.kr/bbs/cse/2605/1134512/artclView.do\n",
      "2022-12-27\n",
      "[LINC 3.0] 파워반도체인재양성센터 패키징트랙 교육생 모집 안내\n",
      "http://his.pusan.ac.kr/bbs/cse/2605/1134488/artclView.do\n",
      "2022-12-26\n",
      "[대학혁신] 2022학년도 하반기 고학년 진로설계 프로그램 「대학생 CAP@ _ 집단상담」모집 안내\n",
      "http://his.pusan.ac.kr/bbs/cse/2605/1134442/artclView.do\n",
      "2022-12-26\n",
      "[대학혁신] 2022학년도 고학년 진로설계 프로그램 「대학생 CAP@ _ 진로특강」(2차) 모집 안내\n",
      "http://his.pusan.ac.kr/bbs/cse/2605/1134441/artclView.do\n",
      "2022-12-26\n",
      "[대학혁신] 2022학년도 하반기 저학년 진로탐색 프로그램 「CEP _ 집단상담」 모집 안내\n",
      "http://his.pusan.ac.kr/bbs/cse/2605/1134440/artclView.do\n",
      "2022-12-26\n",
      "2022학년도 2학기 지역소외계층을 위한 3-DAYS 캠프 프로그램 참가자 추가모집\n",
      "http://his.pusan.ac.kr/bbs/cse/2605/1134439/artclView.do\n",
      "2022-12-26\n",
      "2023학년도 1학기 학부 전과시행 계획 안내\n",
      "http://his.pusan.ac.kr/bbs/cse/2605/1134415/artclView.do\n",
      "2022-12-26\n",
      "2023학년도 1학기 융합전공 이수자 선발 계획 안내\n",
      "http://his.pusan.ac.kr/bbs/cse/2605/1134414/artclView.do\n",
      "2022-12-26\n",
      "2023학년도 1학기 연계전공(SW융합, 의생명과학, 차량용 AI 반도체, 산업AI) 이수자 선발 계획 안내\n",
      "http://his.pusan.ac.kr/bbs/cse/2605/1134410/artclView.do\n"
     ]
    }
   ],
   "source": [
    "for p in parse_rss.entries:\n",
    "    date = f'{p.published_parsed.tm_year}-{p.published_parsed.tm_mon}-{p.published_parsed.tm_mday}'\n",
    "    print(f'{date}\\n{p.title}\\n{p.link}')"
   ]
  },
  {
   "cell_type": "code",
   "execution_count": null,
   "metadata": {},
   "outputs": [],
   "source": [
    "print(parse_rss.entries[0].title)"
   ]
  },
  {
   "cell_type": "code",
   "execution_count": 1,
   "metadata": {},
   "outputs": [],
   "source": [
    "import time,win32con, win32api, win32gui"
   ]
  },
  {
   "cell_type": "code",
   "execution_count": 2,
   "metadata": {},
   "outputs": [],
   "source": []
  },
  {
   "cell_type": "code",
   "execution_count": 6,
   "metadata": {},
   "outputs": [
    {
     "name": "stdout",
     "output_type": "stream",
     "text": [
      "Requirement already satisfied: pyautogui in c:\\users\\nuc\\anaconda3\\envs\\chatbot\\lib\\site-packages (0.9.53)\n",
      "Requirement already satisfied: pygetwindow>=0.0.5 in c:\\users\\nuc\\anaconda3\\envs\\chatbot\\lib\\site-packages (from pyautogui) (0.0.9)\n",
      "Requirement already satisfied: PyTweening>=1.0.1 in c:\\users\\nuc\\anaconda3\\envs\\chatbot\\lib\\site-packages (from pyautogui) (1.0.4)\n",
      "Requirement already satisfied: mouseinfo in c:\\users\\nuc\\anaconda3\\envs\\chatbot\\lib\\site-packages (from pyautogui) (0.1.3)\n",
      "Requirement already satisfied: pyscreeze>=0.1.21 in c:\\users\\nuc\\anaconda3\\envs\\chatbot\\lib\\site-packages (from pyautogui) (0.1.28)\n",
      "Requirement already satisfied: pymsgbox in c:\\users\\nuc\\anaconda3\\envs\\chatbot\\lib\\site-packages (from pyautogui) (1.0.9)\n",
      "Requirement already satisfied: pyrect in c:\\users\\nuc\\anaconda3\\envs\\chatbot\\lib\\site-packages (from pygetwindow>=0.0.5->pyautogui) (0.2.0)\n",
      "Requirement already satisfied: Pillow>=6.2.1 in c:\\users\\nuc\\anaconda3\\envs\\chatbot\\lib\\site-packages (from pyscreeze>=0.1.21->pyautogui) (9.4.0)\n",
      "Requirement already satisfied: pyperclip in c:\\users\\nuc\\anaconda3\\envs\\chatbot\\lib\\site-packages (from mouseinfo->pyautogui) (1.8.2)\n",
      "Note: you may need to restart the kernel to use updated packages.\n"
     ]
    }
   ],
   "source": [
    "pip install pyautogui"
   ]
  },
  {
   "cell_type": "code",
   "execution_count": null,
   "metadata": {},
   "outputs": [],
   "source": []
  }
 ],
 "metadata": {
  "kernelspec": {
   "display_name": "Python 3 (ipykernel)",
   "language": "python",
   "name": "python3"
  },
  "language_info": {
   "codemirror_mode": {
    "name": "ipython",
    "version": 3
   },
   "file_extension": ".py",
   "mimetype": "text/x-python",
   "name": "python",
   "nbconvert_exporter": "python",
   "pygments_lexer": "ipython3",
   "version": "3.8.10"
  },
  "vscode": {
   "interpreter": {
    "hash": "800db5087e7dc485da324edd866ea422455dd9dc89668bf75ee14175706db6c1"
   }
  }
 },
 "nbformat": 4,
 "nbformat_minor": 4
}
